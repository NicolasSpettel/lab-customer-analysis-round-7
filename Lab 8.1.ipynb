{
 "cells": [
  {
   "cell_type": "markdown",
   "id": "5b652a6b",
   "metadata": {},
   "source": [
    "# Lab | Customer Analysis Round 7"
   ]
  },
  {
   "cell_type": "markdown",
   "id": "10d6cb4f",
   "metadata": {},
   "source": [
    "## Modeling"
   ]
  },
  {
   "cell_type": "markdown",
   "id": "daf0b95b",
   "metadata": {},
   "source": [
    "### Try to improve the linear regression model."
   ]
  },
  {
   "cell_type": "code",
   "execution_count": 1,
   "id": "40d8732c",
   "metadata": {},
   "outputs": [],
   "source": [
    "import pandas as pd\n",
    "import numpy as np\n",
    "import matplotlib.pyplot as plt\n",
    "import seaborn as sns\n",
    "import scipy.stats as stats\n",
    "%matplotlib inline"
   ]
  },
  {
   "cell_type": "code",
   "execution_count": 2,
   "id": "f6fcb0aa",
   "metadata": {},
   "outputs": [],
   "source": [
    "import warnings\n",
    "warnings.filterwarnings('ignore') # no more warnings "
   ]
  },
  {
   "cell_type": "code",
   "execution_count": 3,
   "id": "dd195acb",
   "metadata": {},
   "outputs": [],
   "source": [
    "from sklearn.metrics import r2_score\n",
    "\n",
    "# a lot of different scaler to try\n",
    "from sklearn.preprocessing import StandardScaler, OneHotEncoder, MinMaxScaler, MaxAbsScaler\n",
    "from sklearn.preprocessing import RobustScaler, QuantileTransformer, PowerTransformer, PolynomialFeatures\n",
    "\n",
    "# a lot of different regression models to try\n",
    "from sklearn.linear_model import LinearRegression, HuberRegressor, RANSACRegressor\n",
    "from sklearn.linear_model import ElasticNet, SGDRegressor, BayesianRidge\n",
    "\n",
    "# more regression models\n",
    "from sklearn.svm import SVR\n",
    "from sklearn.kernel_ridge import KernelRidge\n",
    "from sklearn.ensemble import GradientBoostingRegressor "
   ]
  },
  {
   "cell_type": "code",
   "execution_count": 4,
   "id": "cdfbcbc6",
   "metadata": {},
   "outputs": [],
   "source": [
    "data = pd.read_csv('files_for_lab\\csv_files\\marketing_customer_analysis.csv')"
   ]
  },
  {
   "cell_type": "code",
   "execution_count": 5,
   "id": "c528704c",
   "metadata": {},
   "outputs": [],
   "source": [
    "poly = PolynomialFeatures()\n",
    "use_poly = False\n",
    "reg =  LinearRegression()                #initialization of the method\n",
    "numerical_transformer = StandardScaler() #initialization of the method\n",
    "split_feature = 'total_claim_amount'     # choose feature to split\n",
    "train_test_split_ratio = 0.2             # ratio for train and test split\n",
    "outlier = ['number_of_policies']         # columns to be cleaned of outliers\n",
    "\n",
    "# list of features/columns that have low coefficient values for the Standard model and will be dropped\n",
    "drop_columns = ['customer', 'effective_to_date', 'sales_channel', 'state', 'education', 'number_of_open_complaints'\n",
    "               , 'months_since_policy_inception', 'vehicle_size', 'policy',\n",
    "                'months_since_last_claim']"
   ]
  },
  {
   "cell_type": "code",
   "execution_count": 6,
   "id": "f9f50420",
   "metadata": {},
   "outputs": [],
   "source": [
    "data.columns = data.columns.str.lower()             # transform all column names to lower case\n",
    "data.columns = data.columns.str.replace(' ','_')    # repalce spaces inbetween with '_'\n",
    "\n",
    "Q1 = data.quantile(0.25) # first quantile\n",
    "Q3 = data.quantile(0.75) # third quantile\n",
    "IQR = Q3 - Q1            # inter quantile range\n",
    "\n",
    "data = data[~(                     # negation so we get the datapoints within the whiskers\n",
    "(data[outlier] < (Q1 - 1.5 * IQR)) # datapoints left of the \"left whisker\"\n",
    "|(data[outlier] > (Q3 + 1.5 * IQR) # datapoints right of the 'right whisker'\n",
    ")).any(axis=1)]\n",
    "\n",
    "data = data.drop(columns=drop_columns) # dropping low impact columns"
   ]
  },
  {
   "cell_type": "code",
   "execution_count": 7,
   "id": "02985871",
   "metadata": {},
   "outputs": [],
   "source": [
    "x = data[data.columns.drop(split_feature)] # features\n",
    "y = data[split_feature]                    # target feature\n",
    "x = pd.get_dummies(x, drop_first = True)   # dummification"
   ]
  },
  {
   "cell_type": "code",
   "execution_count": 8,
   "id": "5efaea04",
   "metadata": {},
   "outputs": [],
   "source": [
    "from sklearn.model_selection import train_test_split\n",
    "X_train, X_test, y_train, y_test = train_test_split(x, y, test_size = train_test_split_ratio, random_state = 42) # train test split\n",
    "\n",
    "if use_poly:\n",
    "    X_train = poly.fit_transform(X_train) # fit and transform X_train with PolynomialFeatures\n",
    "    X_test = poly.transform(X_test)       # transformX_test with PolynomialFeatures\n",
    "else:\n",
    "    X_train = numerical_transformer.fit_transform(X_train) # fit and transform X_train\n",
    "    X_test = numerical_transformer.transform(X_test)       # transformX_test"
   ]
  },
  {
   "cell_type": "code",
   "execution_count": 9,
   "id": "5eee4452",
   "metadata": {},
   "outputs": [
    {
     "data": {
      "text/plain": [
       "LinearRegression()"
      ]
     },
     "execution_count": 9,
     "metadata": {},
     "output_type": "execute_result"
    }
   ],
   "source": [
    "reg.fit(X_train, y_train) # train on the train data"
   ]
  },
  {
   "cell_type": "code",
   "execution_count": 10,
   "id": "35058574",
   "metadata": {},
   "outputs": [],
   "source": [
    "predictions_train = reg.predict(X_train) # create predictions for our train data\n",
    "predictions_test = reg.predict(X_test)   # create predictions for our test data"
   ]
  },
  {
   "cell_type": "code",
   "execution_count": 11,
   "id": "c44948d8",
   "metadata": {},
   "outputs": [
    {
     "name": "stdout",
     "output_type": "stream",
     "text": [
      "R2 value for train: 0.7696091117258597\n",
      "R2 value for test: 0.7716572809167026\n"
     ]
    }
   ],
   "source": [
    "r2_train = r2_score(y_train, predictions_train) # calculate r2 score for train data\n",
    "r2_test = r2_score(y_test, predictions_test)    # calculate r2 score for test data\n",
    "\n",
    "print('R2 value for train: {}'.format(r2_train))\n",
    "print('R2 value for test: {}'.format(r2_test))  "
   ]
  },
  {
   "cell_type": "code",
   "execution_count": 12,
   "id": "0cb3a95e",
   "metadata": {},
   "outputs": [],
   "source": [
    "# Trying to find features that are of lesser importance for the regression and replace them in the next iteration\n",
    "\n",
    "#features = x.columns.to_list()\n",
    "#feature_importance = pd.DataFrame({\"features\": features,\n",
    "#    \"values\":abs(reg.coef_)}) # get absolute values\n",
    "\n",
    "#feature_importance.sort_values([\"values\"], ascending=False) # most important features on top"
   ]
  },
  {
   "cell_type": "code",
   "execution_count": 13,
   "id": "e7b14d48",
   "metadata": {},
   "outputs": [],
   "source": [
    "# safe scores from previous attempts in a dictionary\n",
    "rms = {'Model used' : ['LinearRegression', 'HuberRegressor', 'RANSACRegressor', 'ElasticNet', \n",
    "                       'SGDRegressor', 'BayesianRidge', 'SVR', 'KernelRidge', 'GradientBoostingRegressor'],\n",
    "    'Train score' : [0.77, 0.75, 0.66, 0.66, 0.76, 0.76, 0.31, -1.4, 0.86],\n",
    "    'Test score' : [0.77, 0.73, 0.67, 0.68, 0.74, 0.74, 0.32, -1.5, 0.82],\n",
    "    'Train score using PolynomialFeatures' : [0.86, -0.25, 0.42, 0.84, -3, 0.83, 0.08, 0.59, 0.88],\n",
    "    'Test scote using PolynomialFeatures' : [0.80, -0.25, 0.42, 0.82, -3, 0.81, 0.09, 0.46, 0.82],\n",
    "}"
   ]
  },
  {
   "cell_type": "code",
   "execution_count": 14,
   "id": "7d0ac1e0",
   "metadata": {},
   "outputs": [
    {
     "data": {
      "text/html": [
       "<div>\n",
       "<style scoped>\n",
       "    .dataframe tbody tr th:only-of-type {\n",
       "        vertical-align: middle;\n",
       "    }\n",
       "\n",
       "    .dataframe tbody tr th {\n",
       "        vertical-align: top;\n",
       "    }\n",
       "\n",
       "    .dataframe thead th {\n",
       "        text-align: right;\n",
       "    }\n",
       "</style>\n",
       "<table border=\"1\" class=\"dataframe\">\n",
       "  <thead>\n",
       "    <tr style=\"text-align: right;\">\n",
       "      <th></th>\n",
       "      <th>Model used</th>\n",
       "      <th>Train score</th>\n",
       "      <th>Test score</th>\n",
       "      <th>Train score using PolynomialFeatures</th>\n",
       "      <th>Test scote using PolynomialFeatures</th>\n",
       "    </tr>\n",
       "  </thead>\n",
       "  <tbody>\n",
       "    <tr>\n",
       "      <th>0</th>\n",
       "      <td>LinearRegression</td>\n",
       "      <td>0.77</td>\n",
       "      <td>0.77</td>\n",
       "      <td>0.86</td>\n",
       "      <td>0.80</td>\n",
       "    </tr>\n",
       "    <tr>\n",
       "      <th>1</th>\n",
       "      <td>HuberRegressor</td>\n",
       "      <td>0.75</td>\n",
       "      <td>0.73</td>\n",
       "      <td>-0.25</td>\n",
       "      <td>-0.25</td>\n",
       "    </tr>\n",
       "    <tr>\n",
       "      <th>2</th>\n",
       "      <td>RANSACRegressor</td>\n",
       "      <td>0.66</td>\n",
       "      <td>0.67</td>\n",
       "      <td>0.42</td>\n",
       "      <td>0.42</td>\n",
       "    </tr>\n",
       "    <tr>\n",
       "      <th>3</th>\n",
       "      <td>ElasticNet</td>\n",
       "      <td>0.66</td>\n",
       "      <td>0.68</td>\n",
       "      <td>0.84</td>\n",
       "      <td>0.82</td>\n",
       "    </tr>\n",
       "    <tr>\n",
       "      <th>4</th>\n",
       "      <td>SGDRegressor</td>\n",
       "      <td>0.76</td>\n",
       "      <td>0.74</td>\n",
       "      <td>-3.00</td>\n",
       "      <td>-3.00</td>\n",
       "    </tr>\n",
       "    <tr>\n",
       "      <th>5</th>\n",
       "      <td>BayesianRidge</td>\n",
       "      <td>0.76</td>\n",
       "      <td>0.74</td>\n",
       "      <td>0.83</td>\n",
       "      <td>0.81</td>\n",
       "    </tr>\n",
       "    <tr>\n",
       "      <th>6</th>\n",
       "      <td>SVR</td>\n",
       "      <td>0.31</td>\n",
       "      <td>0.32</td>\n",
       "      <td>0.08</td>\n",
       "      <td>0.09</td>\n",
       "    </tr>\n",
       "    <tr>\n",
       "      <th>7</th>\n",
       "      <td>KernelRidge</td>\n",
       "      <td>-1.40</td>\n",
       "      <td>-1.50</td>\n",
       "      <td>0.59</td>\n",
       "      <td>0.46</td>\n",
       "    </tr>\n",
       "    <tr>\n",
       "      <th>8</th>\n",
       "      <td>GradientBoostingRegressor</td>\n",
       "      <td>0.86</td>\n",
       "      <td>0.82</td>\n",
       "      <td>0.88</td>\n",
       "      <td>0.82</td>\n",
       "    </tr>\n",
       "  </tbody>\n",
       "</table>\n",
       "</div>"
      ],
      "text/plain": [
       "                  Model used  Train score  Test score  \\\n",
       "0           LinearRegression         0.77        0.77   \n",
       "1             HuberRegressor         0.75        0.73   \n",
       "2            RANSACRegressor         0.66        0.67   \n",
       "3                 ElasticNet         0.66        0.68   \n",
       "4               SGDRegressor         0.76        0.74   \n",
       "5              BayesianRidge         0.76        0.74   \n",
       "6                        SVR         0.31        0.32   \n",
       "7                KernelRidge        -1.40       -1.50   \n",
       "8  GradientBoostingRegressor         0.86        0.82   \n",
       "\n",
       "   Train score using PolynomialFeatures  Test scote using PolynomialFeatures  \n",
       "0                                  0.86                                 0.80  \n",
       "1                                 -0.25                                -0.25  \n",
       "2                                  0.42                                 0.42  \n",
       "3                                  0.84                                 0.82  \n",
       "4                                 -3.00                                -3.00  \n",
       "5                                  0.83                                 0.81  \n",
       "6                                  0.08                                 0.09  \n",
       "7                                  0.59                                 0.46  \n",
       "8                                  0.88                                 0.82  "
      ]
     },
     "execution_count": 14,
     "metadata": {},
     "output_type": "execute_result"
    }
   ],
   "source": [
    "regression_model_scores = pd.DataFrame(data=rms)\n",
    "regression_model_scores"
   ]
  },
  {
   "cell_type": "markdown",
   "id": "cf2a51fa",
   "metadata": {},
   "source": [
    "### Conclusion\n",
    "\n",
    "First I was using the *LinearRegression* model with *StandardScaler* to scale the data.\n",
    "\n",
    "Then I calculated the coeffients for the Regression model and gradually replaced some features that seemed to have a small impact on the model.\n",
    "\n",
    "The test split ratio was not affecting scores a lot and set at either 0.2 or 0.3.\n",
    "\n",
    "This resulted in a r2 score for the train data of 0.77 and 0.77 for the test data.\n",
    "\n",
    "Afterwards I tried different Scaler to scale the model. The only one that seemed to have a larger impact was the *PolynomialFeatures* scaler.\n",
    "\n",
    "This resulted in a r2 score of 0.86 for train and 0.80 for test.\n",
    "\n",
    "I continued by trying different regression models.\n",
    "\n",
    "The best result was achieved by using the *GradientBoostingRegressor* together with the *PolynomialFeatures* scaler.\n",
    "R2 score of 0.88 for train data and 0.82 for test data.\n",
    "\n",
    "Unfortunatly I was not able to receive the coefficients for that approach and decieded to stop searching for a better model."
   ]
  },
  {
   "cell_type": "code",
   "execution_count": null,
   "id": "f0bebf3f",
   "metadata": {},
   "outputs": [],
   "source": []
  }
 ],
 "metadata": {
  "kernelspec": {
   "display_name": "Python 3 (ipykernel)",
   "language": "python",
   "name": "python3"
  },
  "language_info": {
   "codemirror_mode": {
    "name": "ipython",
    "version": 3
   },
   "file_extension": ".py",
   "mimetype": "text/x-python",
   "name": "python",
   "nbconvert_exporter": "python",
   "pygments_lexer": "ipython3",
   "version": "3.9.7"
  }
 },
 "nbformat": 4,
 "nbformat_minor": 5
}
